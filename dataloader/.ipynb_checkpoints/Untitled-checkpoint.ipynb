{
 "cells": [
  {
   "cell_type": "code",
   "execution_count": null,
   "id": "worse-intent",
   "metadata": {},
   "outputs": [],
   "source": [
    "from dataloader_cicids import dataset_cicids\n",
    "from torch.utils.data import DataLoader\n",
    "data=dataset_cicids(device=2,train=True,synthetic=True,separate_nodes=True)\n",
    "print(self.path)\n",
    "dl=DataLoader(data, batch_size=64, shuffle=True)"
   ]
  },
  {
   "cell_type": "code",
   "execution_count": 1,
   "id": "prostate-rating",
   "metadata": {},
   "outputs": [
    {
     "ename": "NameError",
     "evalue": "name 'dl' is not defined",
     "output_type": "error",
     "traceback": [
      "\u001b[0;31m---------------------------------------------------------------------------\u001b[0m",
      "\u001b[0;31mNameError\u001b[0m                                 Traceback (most recent call last)",
      "\u001b[0;32m<ipython-input-1-04e70d849a77>\u001b[0m in \u001b[0;36m<module>\u001b[0;34m\u001b[0m\n\u001b[0;32m----> 1\u001b[0;31m \u001b[0;32mfor\u001b[0m \u001b[0mdata\u001b[0m\u001b[0;34m,\u001b[0m \u001b[0mlabels\u001b[0m \u001b[0;32min\u001b[0m \u001b[0mdl\u001b[0m\u001b[0;34m:\u001b[0m\u001b[0;34m\u001b[0m\u001b[0;34m\u001b[0m\u001b[0m\n\u001b[0m\u001b[1;32m      2\u001b[0m     \u001b[0mprint\u001b[0m\u001b[0;34m(\u001b[0m\u001b[0mdata\u001b[0m\u001b[0;34m.\u001b[0m\u001b[0mshape\u001b[0m\u001b[0;34m)\u001b[0m\u001b[0;34m\u001b[0m\u001b[0;34m\u001b[0m\u001b[0m\n",
      "\u001b[0;31mNameError\u001b[0m: name 'dl' is not defined"
     ]
    }
   ],
   "source": [
    "for data, labels in dl:\n",
    "    print(data.shape)"
   ]
  },
  {
   "cell_type": "code",
   "execution_count": 2,
   "id": "dated-vacation",
   "metadata": {},
   "outputs": [
    {
     "name": "stdout",
     "output_type": "stream",
     "text": [
      "DEVICE 0\n",
      "mode train\n",
      "0 165316\n",
      "1 165144\n",
      "mode test\n",
      "0 20664\n",
      "1 20643\n",
      "mode val\n",
      "0 20664\n",
      "1 20643\n",
      "DEVICE 1\n",
      "mode train\n",
      "0 165316\n",
      "2 102421\n",
      "mode test\n",
      "0 20664\n",
      "2 12802\n",
      "mode val\n",
      "0 20664\n",
      "2 12802\n",
      "DEVICE 2\n",
      "mode train\n",
      "0 165316\n",
      "3 164688\n",
      "mode test\n",
      "0 20664\n",
      "3 20586\n",
      "mode val\n",
      "0 20664\n",
      "3 20586\n",
      "DEVICE 3\n",
      "mode train\n",
      "0 165316\n",
      "mode test\n",
      "0 20664\n",
      "mode val\n",
      "0 20664\n",
      "DEVICE 4\n",
      "mode train\n",
      "0 165316\n",
      "5 162770\n",
      "mode test\n",
      "0 20664\n",
      "5 20346\n",
      "mode val\n",
      "0 20664\n",
      "5 20346\n",
      "DEVICE 5\n",
      "mode train\n",
      "0 165316\n",
      "6 162288\n",
      "mode test\n",
      "0 20664\n",
      "6 20286\n",
      "mode val\n",
      "0 20664\n",
      "6 20286\n",
      "DEVICE 6\n",
      "mode train\n",
      "0 165316\n",
      "7 165110\n",
      "mode test\n",
      "0 20664\n",
      "7 20638\n",
      "mode val\n",
      "0 20664\n",
      "7 20638\n",
      "DEVICE 7\n",
      "mode train\n",
      "0 165316\n",
      "10 127144\n",
      "mode test\n",
      "0 20664\n",
      "10 15893\n",
      "mode val\n",
      "0 20664\n",
      "10 15893\n",
      "DEVICE 8\n",
      "mode train\n",
      "0 165316\n",
      "11 165116\n",
      "mode test\n",
      "0 20664\n",
      "11 20639\n",
      "mode val\n",
      "0 20664\n",
      "11 20639\n",
      "DEVICE 9\n",
      "mode train\n",
      "0 165316\n",
      "12 165167\n",
      "mode test\n",
      "0 20664\n",
      "12 20645\n",
      "mode val\n",
      "0 20664\n",
      "12 20645\n",
      "DEVICE 10\n",
      "mode train\n",
      "0 165316\n",
      "14 164825\n",
      "mode test\n",
      "0 20664\n",
      "14 20603\n",
      "mode val\n",
      "0 20664\n",
      "14 20603\n"
     ]
    }
   ],
   "source": [
    "import pickle\n",
    "import numpy as np\n",
    "for i in range(11):\n",
    "    print(f'DEVICE {i}')\n",
    "    for mode in ['train', 'test', 'val']:\n",
    "        print('mode',mode)\n",
    "        with open(f'datasets/separate_nodes/synthetic/device_{i}/dataset_{mode}.txt','rb') as f:a=pickle.load(f)\n",
    "        clsses=np.unique(a['labels'])\n",
    "        for cls in clsses:\n",
    "            print(cls, len(a['labels'][a['labels']==cls]))"
   ]
  },
  {
   "cell_type": "code",
   "execution_count": 13,
   "id": "linear-ensemble",
   "metadata": {},
   "outputs": [
    {
     "name": "stdout",
     "output_type": "stream",
     "text": [
      "0 206645\n",
      "3 10293\n"
     ]
    }
   ],
   "source": []
  },
  {
   "cell_type": "code",
   "execution_count": null,
   "id": "distinguished-twins",
   "metadata": {},
   "outputs": [],
   "source": []
  },
  {
   "cell_type": "code",
   "execution_count": null,
   "id": "another-conversion",
   "metadata": {},
   "outputs": [],
   "source": []
  },
  {
   "cell_type": "code",
   "execution_count": null,
   "id": "modular-clothing",
   "metadata": {},
   "outputs": [],
   "source": []
  }
 ],
 "metadata": {
  "kernelspec": {
   "display_name": "Python 3",
   "language": "python",
   "name": "python3"
  },
  "language_info": {
   "codemirror_mode": {
    "name": "ipython",
    "version": 3
   },
   "file_extension": ".py",
   "mimetype": "text/x-python",
   "name": "python",
   "nbconvert_exporter": "python",
   "pygments_lexer": "ipython3",
   "version": "3.9.1"
  }
 },
 "nbformat": 4,
 "nbformat_minor": 5
}
