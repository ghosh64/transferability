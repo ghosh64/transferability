{
 "cells": [
  {
   "cell_type": "code",
   "execution_count": 8,
   "id": "sunrise-fountain",
   "metadata": {},
   "outputs": [],
   "source": [
    "from dataloader_cicids import dataset_cicids"
   ]
  },
  {
   "cell_type": "code",
   "execution_count": 9,
   "id": "imported-letters",
   "metadata": {},
   "outputs": [],
   "source": [
    "ds=dataset_cicids(device=0)"
   ]
  },
  {
   "cell_type": "code",
   "execution_count": 10,
   "id": "undefined-infrared",
   "metadata": {},
   "outputs": [
    {
     "name": "stdout",
     "output_type": "stream",
     "text": [
      "BENIGN 454619\n",
      "Bot 393\n",
      "DDoS 25605\n",
      "DoS GoldenEye 2058\n",
      "DoS Hulk 46214\n",
      "DoS Slowhttptest 1099\n",
      "DoS slowloris 1159\n",
      "FTP-Patator 1587\n",
      "PortScan 31786\n",
      "SSH-Patator 1179\n",
      "Web Attack � Brute Force 301\n",
      "Web Attack � XSS 130\n"
     ]
    }
   ],
   "source": [
    "import numpy as np\n",
    "unique_labels=np.unique(ds.labels)\n",
    "for label in unique_labels:\n",
    "    #print(label)\n",
    "    print(ds.classes[label], ds.labels.count(label))"
   ]
  },
  {
   "cell_type": "code",
   "execution_count": 13,
   "id": "heard-cedar",
   "metadata": {},
   "outputs": [
    {
     "name": "stdout",
     "output_type": "stream",
     "text": [
      "566130\n",
      "566130\n"
     ]
    },
    {
     "data": {
      "text/plain": [
       "(None, None)"
      ]
     },
     "execution_count": 13,
     "metadata": {},
     "output_type": "execute_result"
    }
   ],
   "source": [
    "print(len(ds.data)), print(len(ds.labels))"
   ]
  }
 ],
 "metadata": {
  "kernelspec": {
   "display_name": "Python 3",
   "language": "python",
   "name": "python3"
  },
  "language_info": {
   "codemirror_mode": {
    "name": "ipython",
    "version": 3
   },
   "file_extension": ".py",
   "mimetype": "text/x-python",
   "name": "python",
   "nbconvert_exporter": "python",
   "pygments_lexer": "ipython3",
   "version": "3.9.1"
  }
 },
 "nbformat": 4,
 "nbformat_minor": 5
}
